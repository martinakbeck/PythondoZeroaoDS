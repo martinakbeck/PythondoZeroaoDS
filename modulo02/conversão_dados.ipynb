{
 "cells": [
  {
   "cell_type": "code",
   "execution_count": 19,
   "id": "6d5ce667",
   "metadata": {
    "ExecuteTime": {
     "end_time": "2022-07-16T20:23:30.085589Z",
     "start_time": "2022-07-16T20:23:30.078182Z"
    }
   },
   "outputs": [],
   "source": [
    "from datetime import date\n",
    "import numpy as np\n",
    "import pandas as pd"
   ]
  },
  {
   "cell_type": "code",
   "execution_count": 20,
   "id": "3c4771bc",
   "metadata": {
    "ExecuteTime": {
     "end_time": "2022-07-16T20:23:31.897026Z",
     "start_time": "2022-07-16T20:23:31.839661Z"
    }
   },
   "outputs": [],
   "source": [
    "data = pd.read_csv('../datasets/kc_house_data.csv') "
   ]
  },
  {
   "cell_type": "code",
   "execution_count": 21,
   "id": "d5ae16bc",
   "metadata": {
    "ExecuteTime": {
     "end_time": "2022-07-16T20:23:34.002588Z",
     "start_time": "2022-07-16T20:23:33.992293Z"
    }
   },
   "outputs": [
    {
     "data": {
      "text/plain": [
       "id                 int64\n",
       "date              object\n",
       "price            float64\n",
       "bedrooms           int64\n",
       "bathrooms        float64\n",
       "sqft_living        int64\n",
       "sqft_lot           int64\n",
       "floors           float64\n",
       "waterfront         int64\n",
       "view               int64\n",
       "condition          int64\n",
       "grade              int64\n",
       "sqft_above       float64\n",
       "sqft_basement      int64\n",
       "yr_built           int64\n",
       "yr_renovated       int64\n",
       "zipcode            int64\n",
       "lat              float64\n",
       "long             float64\n",
       "sqft_living15      int64\n",
       "sqft_lot15         int64\n",
       "dtype: object"
      ]
     },
     "execution_count": 21,
     "metadata": {},
     "output_type": "execute_result"
    }
   ],
   "source": [
    "# Mostrar os tipos de dados\n",
    "data.dtypes"
   ]
  },
  {
   "cell_type": "markdown",
   "id": "cc746ea9",
   "metadata": {
    "ExecuteTime": {
     "end_time": "2022-07-16T20:21:59.352473Z",
     "start_time": "2022-07-16T20:21:59.319795Z"
    }
   },
   "source": [
    "## Converte de object (string) -> date"
   ]
  },
  {
   "cell_type": "code",
   "execution_count": 22,
   "id": "e7d84900",
   "metadata": {
    "ExecuteTime": {
     "end_time": "2022-07-16T20:23:36.959589Z",
     "start_time": "2022-07-16T20:23:36.934972Z"
    }
   },
   "outputs": [],
   "source": [
    "data['date'] = pd.to_datetime(data['date'])"
   ]
  },
  {
   "cell_type": "code",
   "execution_count": 23,
   "id": "d4789731",
   "metadata": {
    "ExecuteTime": {
     "end_time": "2022-07-16T20:23:40.076159Z",
     "start_time": "2022-07-16T20:23:40.062695Z"
    }
   },
   "outputs": [
    {
     "data": {
      "text/plain": [
       "id                        int64\n",
       "date             datetime64[ns]\n",
       "price                   float64\n",
       "bedrooms                  int64\n",
       "bathrooms               float64\n",
       "sqft_living               int64\n",
       "sqft_lot                  int64\n",
       "floors                  float64\n",
       "waterfront                int64\n",
       "view                      int64\n",
       "condition                 int64\n",
       "grade                     int64\n",
       "sqft_above              float64\n",
       "sqft_basement             int64\n",
       "yr_built                  int64\n",
       "yr_renovated              int64\n",
       "zipcode                   int64\n",
       "lat                     float64\n",
       "long                    float64\n",
       "sqft_living15             int64\n",
       "sqft_lot15                int64\n",
       "dtype: object"
      ]
     },
     "execution_count": 23,
     "metadata": {},
     "output_type": "execute_result"
    }
   ],
   "source": [
    "data.dtypes"
   ]
  },
  {
   "cell_type": "markdown",
   "id": "0753eb11",
   "metadata": {},
   "source": [
    "### Intero para Float"
   ]
  },
  {
   "cell_type": "code",
   "execution_count": 6,
   "id": "ad844f8d",
   "metadata": {
    "ExecuteTime": {
     "end_time": "2022-07-16T20:19:56.216226Z",
     "start_time": "2022-07-16T20:19:56.200261Z"
    }
   },
   "outputs": [
    {
     "name": "stdout",
     "output_type": "stream",
     "text": [
      "Antes Inteiro: float64\n",
      "Depois Float: float64\n"
     ]
    }
   ],
   "source": [
    "print('Antes Inteiro: {}'.format(data.dtypes['bedrooms']))\n",
    "data['bedrooms'] = data['bedrooms'].astype(float)\n",
    "print('Depois Float: {}'.format(data.dtypes['bedrooms']))"
   ]
  },
  {
   "cell_type": "markdown",
   "id": "88f4e0d5",
   "metadata": {},
   "source": [
    "### Float para Inteiro\n",
    "Converte para quantos bits tem o Windows e 32 e 64 não é compatível. Ou tudo 32 ou tudo 64"
   ]
  },
  {
   "cell_type": "code",
   "execution_count": 7,
   "id": "b038d9c9",
   "metadata": {
    "ExecuteTime": {
     "end_time": "2022-07-16T20:20:16.341184Z",
     "start_time": "2022-07-16T20:20:16.333212Z"
    }
   },
   "outputs": [
    {
     "name": "stdout",
     "output_type": "stream",
     "text": [
      "Antes Float: float64\n",
      "Depois Inteiro: int64\n"
     ]
    }
   ],
   "source": [
    "print('Antes Float: {}'.format(data.dtypes['bedrooms']))\n",
    "data['bedrooms'] = data['bedrooms'].astype(np.int64)\n",
    "print('Depois Inteiro: {}'.format(data.dtypes['bedrooms']))"
   ]
  },
  {
   "cell_type": "markdown",
   "id": "acd6f352",
   "metadata": {},
   "source": [
    "### Inteiro para String"
   ]
  },
  {
   "cell_type": "code",
   "execution_count": 8,
   "id": "f2dc9a77",
   "metadata": {
    "ExecuteTime": {
     "end_time": "2022-07-16T20:20:32.806016Z",
     "start_time": "2022-07-16T20:20:32.789777Z"
    }
   },
   "outputs": [
    {
     "name": "stdout",
     "output_type": "stream",
     "text": [
      "Antes Inteiro: int64\n",
      "Depois String: object\n"
     ]
    }
   ],
   "source": [
    "print('Antes Inteiro: {}'.format(data.dtypes['bedrooms']))\n",
    "data['bedrooms'] = data['bedrooms'].astype(str)\n",
    "print('Depois String: {}'.format(data.dtypes['bedrooms']))"
   ]
  },
  {
   "cell_type": "markdown",
   "id": "18fb6877",
   "metadata": {},
   "source": [
    "### String para Inteiro"
   ]
  },
  {
   "cell_type": "code",
   "execution_count": 9,
   "id": "a7800732",
   "metadata": {
    "ExecuteTime": {
     "end_time": "2022-07-16T20:20:47.761946Z",
     "start_time": "2022-07-16T20:20:47.744213Z"
    }
   },
   "outputs": [
    {
     "name": "stdout",
     "output_type": "stream",
     "text": [
      "Antes String: object\n",
      "Depois Inteiro: int64\n"
     ]
    }
   ],
   "source": [
    "print('Antes String: {}'.format(data.dtypes['bedrooms']))\n",
    "data['bedrooms'] = data['bedrooms'].astype(np.int64)\n",
    "print('Depois Inteiro: {}'.format(data.dtypes['bedrooms']))"
   ]
  },
  {
   "cell_type": "markdown",
   "id": "dd50289a",
   "metadata": {},
   "source": [
    "### String para Data"
   ]
  },
  {
   "cell_type": "code",
   "execution_count": 10,
   "id": "8978ec10",
   "metadata": {
    "ExecuteTime": {
     "end_time": "2022-07-16T20:21:08.618063Z",
     "start_time": "2022-07-16T20:21:08.599863Z"
    }
   },
   "outputs": [
    {
     "name": "stdout",
     "output_type": "stream",
     "text": [
      "Antes String: object\n",
      "Depois Data: datetime64[ns]\n"
     ]
    }
   ],
   "source": [
    "print('Antes String: {}'.format(data.dtypes['date']))\n",
    "data['date'] = pd.to_datetime(data['date'])\n",
    "print('Depois Data: {}'.format(data.dtypes['date']))"
   ]
  },
  {
   "cell_type": "code",
   "execution_count": null,
   "id": "9548d85e",
   "metadata": {},
   "outputs": [],
   "source": []
  }
 ],
 "metadata": {
  "kernelspec": {
   "display_name": "Python 3 (ipykernel)",
   "language": "python",
   "name": "python3"
  },
  "language_info": {
   "codemirror_mode": {
    "name": "ipython",
    "version": 3
   },
   "file_extension": ".py",
   "mimetype": "text/x-python",
   "name": "python",
   "nbconvert_exporter": "python",
   "pygments_lexer": "ipython3",
   "version": "3.9.12"
  }
 },
 "nbformat": 4,
 "nbformat_minor": 5
}
