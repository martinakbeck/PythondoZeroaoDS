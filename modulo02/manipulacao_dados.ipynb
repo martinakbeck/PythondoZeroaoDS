{
 "cells": [
  {
   "cell_type": "code",
   "execution_count": 1,
   "id": "0e8ae90d",
   "metadata": {
    "ExecuteTime": {
     "end_time": "2022-07-16T20:25:53.538427Z",
     "start_time": "2022-07-16T20:25:53.079421Z"
    }
   },
   "outputs": [],
   "source": [
    "import pandas as pd\n",
    "import numpy as np"
   ]
  },
  {
   "cell_type": "code",
   "execution_count": 2,
   "id": "beadd942",
   "metadata": {
    "ExecuteTime": {
     "end_time": "2022-07-16T20:26:01.035643Z",
     "start_time": "2022-07-16T20:26:00.974496Z"
    }
   },
   "outputs": [],
   "source": [
    "data = pd.read_csv('../datasets/kc_house_data.csv')"
   ]
  },
  {
   "cell_type": "markdown",
   "id": "8d73677f",
   "metadata": {},
   "source": [
    "### Criando novas variáveis \"coluna\""
   ]
  },
  {
   "cell_type": "code",
   "execution_count": 3,
   "id": "f715ad20",
   "metadata": {
    "ExecuteTime": {
     "end_time": "2022-07-16T20:28:23.283411Z",
     "start_time": "2022-07-16T20:28:23.259682Z"
    }
   },
   "outputs": [
    {
     "name": "stdout",
     "output_type": "stream",
     "text": [
      "Index(['id', 'date', 'price', 'bedrooms', 'bathrooms', 'sqft_living',\n",
      "       'sqft_lot', 'floors', 'waterfront', 'view', 'condition', 'grade',\n",
      "       'sqft_above', 'sqft_basement', 'yr_built', 'yr_renovated', 'zipcode',\n",
      "       'lat', 'long', 'sqft_living15', 'sqft_lot15', 'nome_da_martina'],\n",
      "      dtype='object')\n",
      "           id             date nome_da_martina\n",
      "0  7129300520  20141013T000000         martina\n",
      "1  6414100192  20141209T000000         martina\n",
      "2  5631500400  20150225T000000         martina\n",
      "3  2487200875  20141209T000000         martina\n",
      "4  1954400510  20150218T000000         martina\n"
     ]
    }
   ],
   "source": [
    "#     nome da coluna        dado\n",
    "data['nome_da_martina'] = \"martina\"\n",
    "print(data.columns)\n",
    "print(data[['id', 'date', 'nome_da_martina']].head())"
   ]
  },
  {
   "cell_type": "markdown",
   "id": "55a71318",
   "metadata": {},
   "source": [
    "### Deletar variáveis"
   ]
  },
  {
   "cell_type": "code",
   "execution_count": 6,
   "id": "f251f0aa",
   "metadata": {
    "ExecuteTime": {
     "end_time": "2022-07-16T20:29:22.325056Z",
     "start_time": "2022-07-16T20:29:22.302065Z"
    }
   },
   "outputs": [
    {
     "name": "stdout",
     "output_type": "stream",
     "text": [
      "Index(['id', 'date', 'price', 'bedrooms', 'bathrooms', 'sqft_living',\n",
      "       'sqft_lot', 'floors', 'waterfront', 'view', 'condition', 'grade',\n",
      "       'sqft_above', 'sqft_basement', 'yr_built', 'yr_renovated', 'zipcode',\n",
      "       'lat', 'long', 'sqft_living15', 'sqft_lot15', 'nome_da_martina'],\n",
      "      dtype='object')\n"
     ]
    },
    {
     "data": {
      "text/plain": [
       "Index(['id', 'date', 'price', 'bedrooms', 'bathrooms', 'sqft_living',\n",
       "       'sqft_lot', 'floors', 'waterfront', 'view', 'condition', 'grade',\n",
       "       'sqft_above', 'sqft_basement', 'yr_built', 'yr_renovated', 'zipcode',\n",
       "       'lat', 'long', 'sqft_living15', 'sqft_lot15'],\n",
       "      dtype='object')"
      ]
     },
     "execution_count": 6,
     "metadata": {},
     "output_type": "execute_result"
    }
   ],
   "source": [
    "print(data.columns)\n",
    "data.drop(['nome_da_martina'], axis=1).columns"
   ]
  },
  {
   "cell_type": "markdown",
   "id": "d1a208f4",
   "metadata": {},
   "source": [
    "### Seleção de dados"
   ]
  },
  {
   "cell_type": "code",
   "execution_count": 7,
   "id": "2b00e2a3",
   "metadata": {
    "ExecuteTime": {
     "end_time": "2022-07-16T20:30:23.806018Z",
     "start_time": "2022-07-16T20:30:23.783326Z"
    }
   },
   "outputs": [
    {
     "name": "stdout",
     "output_type": "stream",
     "text": [
      "          price          id\n",
      "0      221900.0  7129300520\n",
      "1      538000.0  6414100192\n",
      "2      180000.0  5631500400\n",
      "3      604000.0  2487200875\n",
      "4      510000.0  1954400510\n",
      "...         ...         ...\n",
      "21608  360000.0   263000018\n",
      "21609  400000.0  6600060120\n",
      "21610  402101.0  1523300141\n",
      "21611  400000.0   291310100\n",
      "21612  325000.0  1523300157\n",
      "\n",
      "[21613 rows x 2 columns]\n"
     ]
    }
   ],
   "source": [
    "#Direto pelo nome das colunas, quando é lista precisa ser em duplo colchetes\n",
    "print(data[['price', 'id']])"
   ]
  },
  {
   "cell_type": "code",
   "execution_count": 8,
   "id": "2d0827ec",
   "metadata": {
    "ExecuteTime": {
     "end_time": "2022-07-16T20:30:49.000988Z",
     "start_time": "2022-07-16T20:30:48.982213Z"
    }
   },
   "outputs": [
    {
     "name": "stdout",
     "output_type": "stream",
     "text": [
      "           id             date     price\n",
      "0  7129300520  20141013T000000  221900.0\n",
      "1  6414100192  20141209T000000  538000.0\n"
     ]
    }
   ],
   "source": [
    "#Pelos índices das colunas\n",
    "#índice incremental (0,1,2,3,4...)\n",
    "#DADOS [linhas, colunas]\n",
    "#        0:10,  0:3\n",
    "\n",
    "print(data.iloc[0:2, 0:3]) "
   ]
  },
  {
   "cell_type": "code",
   "execution_count": 9,
   "id": "313cd591",
   "metadata": {
    "ExecuteTime": {
     "end_time": "2022-07-16T20:30:56.970143Z",
     "start_time": "2022-07-16T20:30:56.956546Z"
    }
   },
   "outputs": [
    {
     "name": "stdout",
     "output_type": "stream",
     "text": [
      "0      221900.0\n",
      "1      538000.0\n",
      "2      180000.0\n",
      "3      604000.0\n",
      "4      510000.0\n",
      "5     1225000.0\n",
      "6      257500.0\n",
      "7      291850.0\n",
      "8      229500.0\n",
      "9      323000.0\n",
      "10     662500.0\n",
      "Name: price, dtype: float64\n"
     ]
    }
   ],
   "source": [
    "#Pelos índices das linhas e nome das colunas\n",
    "print(data.loc[0:10, 'price'])"
   ]
  },
  {
   "cell_type": "code",
   "execution_count": 11,
   "id": "c63bdc9e",
   "metadata": {
    "ExecuteTime": {
     "end_time": "2022-07-16T20:31:25.654538Z",
     "start_time": "2022-07-16T20:31:25.632011Z"
    }
   },
   "outputs": [
    {
     "name": "stdout",
     "output_type": "stream",
     "text": [
      "            id      price  bedrooms  floors\n",
      "0   7129300520   221900.0         3     1.0\n",
      "1   6414100192   538000.0         3     2.0\n",
      "2   5631500400   180000.0         2     1.0\n",
      "3   2487200875   604000.0         4     1.0\n",
      "4   1954400510   510000.0         3     1.0\n",
      "5   7237550310  1225000.0         4     1.0\n",
      "6   1321400060   257500.0         3     2.0\n",
      "7   2008000270   291850.0         3     1.0\n",
      "8   2414600126   229500.0         3     1.0\n",
      "9   3793500160   323000.0         3     2.0\n",
      "10  1736800520   662500.0         3     1.0\n"
     ]
    }
   ],
   "source": [
    "#Pelos índices booleanos (True e False | 1 e 0)\n",
    "\n",
    "#precisa ser na mesma quantidade de colunas\n",
    "cols = [True, False, True, True, False, False, False, True, False, False, False, False, False, False, False, False, False, False, False, False, False, False]\n",
    "\n",
    "print(data.loc[0:10, cols])"
   ]
  },
  {
   "cell_type": "code",
   "execution_count": null,
   "id": "3461b046",
   "metadata": {},
   "outputs": [],
   "source": []
  }
 ],
 "metadata": {
  "kernelspec": {
   "display_name": "Python 3 (ipykernel)",
   "language": "python",
   "name": "python3"
  },
  "language_info": {
   "codemirror_mode": {
    "name": "ipython",
    "version": 3
   },
   "file_extension": ".py",
   "mimetype": "text/x-python",
   "name": "python",
   "nbconvert_exporter": "python",
   "pygments_lexer": "ipython3",
   "version": "3.9.12"
  }
 },
 "nbformat": 4,
 "nbformat_minor": 5
}
