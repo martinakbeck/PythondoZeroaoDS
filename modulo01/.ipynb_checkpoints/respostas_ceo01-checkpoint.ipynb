{
 "cells": [
  {
   "cell_type": "code",
   "execution_count": 2,
   "id": "2997a122",
   "metadata": {
    "ExecuteTime": {
     "end_time": "2022-07-16T19:14:59.687675Z",
     "start_time": "2022-07-16T19:14:58.965275Z"
    },
    "hide_input": true
   },
   "outputs": [],
   "source": [
    "import pandas as pd\n",
    "import numpy as np"
   ]
  },
  {
   "cell_type": "code",
   "execution_count": 5,
   "id": "6ea1137e",
   "metadata": {
    "ExecuteTime": {
     "end_time": "2022-07-16T19:15:17.772356Z",
     "start_time": "2022-07-16T19:15:17.706061Z"
    }
   },
   "outputs": [],
   "source": [
    "data = pd.read_csv('../datasets/kc_house_data.csv')"
   ]
  },
  {
   "cell_type": "markdown",
   "id": "5cedacd8",
   "metadata": {
    "hide_input": false
   },
   "source": [
    "### Quantas casas estão disponíveis para compra?\n",
    "Selecionar a coluna 'id' <br>\n",
    "Contar o número de valores únicos"
   ]
  },
  {
   "cell_type": "code",
   "execution_count": 26,
   "id": "f8759861",
   "metadata": {
    "ExecuteTime": {
     "end_time": "2022-07-16T19:36:35.233287Z",
     "start_time": "2022-07-16T19:36:35.216557Z"
    }
   },
   "outputs": [
    {
     "data": {
      "text/plain": [
       "'O número de casas disponíveis é de 21436'"
      ]
     },
     "execution_count": 26,
     "metadata": {},
     "output_type": "execute_result"
    }
   ],
   "source": [
    "# Pegando valores únicos\n",
    "houses = (len(data['id'].unique()))\n",
    "'O número de casas disponíveis é de {}'.format(houses)"
   ]
  },
  {
   "cell_type": "code",
   "execution_count": 27,
   "id": "8592caac",
   "metadata": {
    "ExecuteTime": {
     "end_time": "2022-07-16T19:36:36.726361Z",
     "start_time": "2022-07-16T19:36:36.704770Z"
    }
   },
   "outputs": [
    {
     "data": {
      "text/plain": [
       "'O número de casas disponíveis é de 21436'"
      ]
     },
     "execution_count": 27,
     "metadata": {},
     "output_type": "execute_result"
    }
   ],
   "source": [
    "# Tirando valores duplicados\n",
    "houses = (len(data['id'].drop_duplicates()))\n",
    "'O número de casas disponíveis é de {}'.format(houses)"
   ]
  },
  {
   "cell_type": "markdown",
   "id": "c83e61c6",
   "metadata": {},
   "source": [
    "### Quantos atributos as casas possuem?\n"
   ]
  },
  {
   "cell_type": "code",
   "execution_count": 25,
   "id": "282ce8f6",
   "metadata": {
    "ExecuteTime": {
     "end_time": "2022-07-16T19:36:26.448842Z",
     "start_time": "2022-07-16T19:36:26.437143Z"
    }
   },
   "outputs": [
    {
     "data": {
      "text/plain": [
       "'A quantidade de atributos das casas são de 19'"
      ]
     },
     "execution_count": 25,
     "metadata": {},
     "output_type": "execute_result"
    }
   ],
   "source": [
    "qtd_atributos = (len (data.drop(['id', 'date'], axis=1).columns))\n",
    "'A quantidade de atributos das casas são de {}'.format(qtd_atributos)"
   ]
  },
  {
   "cell_type": "markdown",
   "id": "f3a0b48a",
   "metadata": {},
   "source": [
    "### Quais são os atributos das casas?"
   ]
  },
  {
   "cell_type": "code",
   "execution_count": 24,
   "id": "3414198f",
   "metadata": {
    "ExecuteTime": {
     "end_time": "2022-07-16T19:36:21.417436Z",
     "start_time": "2022-07-16T19:36:21.392569Z"
    }
   },
   "outputs": [
    {
     "data": {
      "text/plain": [
       "\"Os atributos das casas são Index(['price', 'bedrooms', 'bathrooms', 'sqft_living', 'sqft_lot', 'floors',\\n       'waterfront', 'view', 'condition', 'grade', 'sqft_above',\\n       'sqft_basement', 'yr_built', 'yr_renovated', 'zipcode', 'lat', 'long',\\n       'sqft_living15', 'sqft_lot15'],\\n      dtype='object')\""
      ]
     },
     "execution_count": 24,
     "metadata": {},
     "output_type": "execute_result"
    }
   ],
   "source": [
    "atributos = data.drop(['id', 'date'], axis=1).columns\n",
    "'Os atributos das casas são {}'.format(atributos)"
   ]
  },
  {
   "cell_type": "markdown",
   "id": "4216c5eb",
   "metadata": {},
   "source": [
    "### Qual a casa mais cara ( casa com o maior valor de venda )?"
   ]
  },
  {
   "cell_type": "code",
   "execution_count": 40,
   "id": "9d6b0806",
   "metadata": {
    "ExecuteTime": {
     "end_time": "2022-07-16T19:40:33.181501Z",
     "start_time": "2022-07-16T19:40:33.160777Z"
    }
   },
   "outputs": [
    {
     "data": {
      "text/plain": [
       "'A casa mais cara tem o valor de 6762700020'"
      ]
     },
     "execution_count": 40,
     "metadata": {},
     "output_type": "execute_result"
    }
   ],
   "source": [
    "mais_cara = data[['id','price']].sort_values('price', ascending=False).reset_index(drop=True).loc[0, 'id']\n",
    "\"A casa mais cara tem o valor de {}\".format(mais_cara)"
   ]
  },
  {
   "cell_type": "markdown",
   "id": "780139f2",
   "metadata": {},
   "source": [
    "### Qual a casa com o maior número de quartos?"
   ]
  },
  {
   "cell_type": "code",
   "execution_count": 38,
   "id": "eafeae12",
   "metadata": {
    "ExecuteTime": {
     "end_time": "2022-07-16T19:39:59.286337Z",
     "start_time": "2022-07-16T19:39:59.265132Z"
    }
   },
   "outputs": [
    {
     "data": {
      "text/plain": [
       "'A casa com mais quartos é a 2402100895 com 33 quartos'"
      ]
     },
     "execution_count": 38,
     "metadata": {},
     "output_type": "execute_result"
    }
   ],
   "source": [
    "index_quarto = data[['id','bedrooms']].sort_values('bedrooms', ascending=False).reset_index(drop=True).loc[0, 'id']\n",
    "qtd_quarto = data[['id','bedrooms']].sort_values('bedrooms', ascending=False).reset_index(drop=True).loc[0, 'bedrooms']\n",
    "\"A casa com mais quartos é a {} com {} quartos\".format(index_quarto, qtd_quarto)"
   ]
  },
  {
   "cell_type": "markdown",
   "id": "0072459d",
   "metadata": {},
   "source": [
    "### Qual a soma total de quartos do conjunto de dados?"
   ]
  },
  {
   "cell_type": "code",
   "execution_count": 34,
   "id": "2e1ca421",
   "metadata": {
    "ExecuteTime": {
     "end_time": "2022-07-16T19:39:04.593234Z",
     "start_time": "2022-07-16T19:39:04.576119Z"
    }
   },
   "outputs": [
    {
     "data": {
      "text/plain": [
       "'A soma de quartos do dataset é 72854'"
      ]
     },
     "execution_count": 34,
     "metadata": {},
     "output_type": "execute_result"
    }
   ],
   "source": [
    "# Pandas\n",
    "soma_quarto_pd = data['bedrooms'].sum()\n",
    "'A soma de quartos do dataset é {}'.format(soma_quarto_pd)"
   ]
  },
  {
   "cell_type": "code",
   "execution_count": 35,
   "id": "39e0951c",
   "metadata": {
    "ExecuteTime": {
     "end_time": "2022-07-16T19:39:06.109414Z",
     "start_time": "2022-07-16T19:39:06.093477Z"
    }
   },
   "outputs": [
    {
     "data": {
      "text/plain": [
       "'A soma de quartos do dataset é 72854'"
      ]
     },
     "execution_count": 35,
     "metadata": {},
     "output_type": "execute_result"
    }
   ],
   "source": [
    "# Numpy\n",
    "soma_quarto_np = np.sum(data['bedrooms'])\n",
    "'A soma de quartos do dataset é {}'.format(soma_quarto_np)"
   ]
  },
  {
   "cell_type": "markdown",
   "id": "12be439b",
   "metadata": {},
   "source": [
    "### Quantas casas possuem 2 banheiros?\n",
    "Filtrar quantas tem 2 somente dois bathroom <br>\n",
    "Selecionar as colunas ID e Bathroom <br>\n",
    "Contar o número de casa da coluna ID <br>"
   ]
  },
  {
   "cell_type": "code",
   "execution_count": 36,
   "id": "22523199",
   "metadata": {
    "ExecuteTime": {
     "end_time": "2022-07-16T19:39:08.455971Z",
     "start_time": "2022-07-16T19:39:08.431703Z"
    }
   },
   "outputs": [
    {
     "name": "stdout",
     "output_type": "stream",
     "text": [
      "O número de casas que possuem dois banheiros é de 1930\n"
     ]
    }
   ],
   "source": [
    "casa_banheiros = len(data.loc[data['bathrooms'] == 2, ['id']])\n",
    "print('O número de casas que possuem dois banheiros é de {}'.format(casa_banheiros))"
   ]
  },
  {
   "cell_type": "markdown",
   "id": "ce9b8668",
   "metadata": {},
   "source": [
    "### Qual o preço médio de todas as casas no conjunto de dados?"
   ]
  },
  {
   "cell_type": "code",
   "execution_count": 37,
   "id": "e5cda190",
   "metadata": {
    "ExecuteTime": {
     "end_time": "2022-07-16T19:39:41.389650Z",
     "start_time": "2022-07-16T19:39:41.376281Z"
    }
   },
   "outputs": [
    {
     "name": "stdout",
     "output_type": "stream",
     "text": [
      "O valor médio das casas é de 540088.14\n"
     ]
    }
   ],
   "source": [
    "media_preco = np.round(data['price'].mean(), 2)\n",
    "print('O valor médio das casas é de {}'.format(media_preco))"
   ]
  },
  {
   "cell_type": "markdown",
   "id": "b29d4bea",
   "metadata": {},
   "source": [
    "### Qual o preço médio de casas com 2 banheiros?"
   ]
  },
  {
   "cell_type": "code",
   "execution_count": 41,
   "id": "dd423c19",
   "metadata": {
    "ExecuteTime": {
     "end_time": "2022-07-16T19:41:29.028614Z",
     "start_time": "2022-07-16T19:41:29.016436Z"
    }
   },
   "outputs": [
    {
     "name": "stdout",
     "output_type": "stream",
     "text": [
      "O valor médio das casas com dois banheiros é de 457889.72\n"
     ]
    }
   ],
   "source": [
    "media_valor_casas_dois_banheiros = np.round(data.loc[data['bathrooms'] == 2, 'price'].mean(), 2)\n",
    "print('O valor médio das casas com dois banheiros é de {}'.format(media_valor_casas_dois_banheiros))"
   ]
  },
  {
   "cell_type": "markdown",
   "id": "8e3e896d",
   "metadata": {},
   "source": [
    "### Qual o preço mínimo entre as casas com 3 quartos?"
   ]
  },
  {
   "cell_type": "code",
   "execution_count": 42,
   "id": "692549db",
   "metadata": {
    "ExecuteTime": {
     "end_time": "2022-07-16T19:41:48.940020Z",
     "start_time": "2022-07-16T19:41:48.934035Z"
    }
   },
   "outputs": [
    {
     "name": "stdout",
     "output_type": "stream",
     "text": [
      "O menor valor de casa com três banheiros é de 82000.0\n"
     ]
    }
   ],
   "source": [
    "minimo_valor_casas_tres_banheiros = data.loc[data['bedrooms'] == 3, 'price'].min()\n",
    "print('O menor valor de casa com três banheiros é de {}'.format(minimo_valor_casas_tres_banheiros))"
   ]
  },
  {
   "cell_type": "markdown",
   "id": "1b151b8a",
   "metadata": {},
   "source": [
    "### Quantas casas possuem mais de 300 metros quadrados na salade estar?\n",
    "Converter pés em metro quadrado"
   ]
  },
  {
   "cell_type": "code",
   "execution_count": 43,
   "id": "69963f1e",
   "metadata": {
    "ExecuteTime": {
     "end_time": "2022-07-16T19:42:11.296091Z",
     "start_time": "2022-07-16T19:42:11.272123Z"
    }
   },
   "outputs": [
    {
     "name": "stdout",
     "output_type": "stream",
     "text": [
      "A quantidade de casas com sala de estar com mais de 300 metros quadrados é de 2258\n"
     ]
    }
   ],
   "source": [
    "data['m2'] = data['sqft_living'] * 0.093\n",
    "casas_salas_300 = len(data.loc[data['m2'] > 300, ['id']])\n",
    "print('A quantidade de casas com sala de estar com mais de 300 metros quadrados é de {}'.format(casas_salas_300))"
   ]
  },
  {
   "cell_type": "markdown",
   "id": "d8f9d7d6",
   "metadata": {},
   "source": [
    "### Quantas casas tem mais de 2 andares?"
   ]
  },
  {
   "cell_type": "code",
   "execution_count": 44,
   "id": "69bfc892",
   "metadata": {
    "ExecuteTime": {
     "end_time": "2022-07-16T19:42:27.210282Z",
     "start_time": "2022-07-16T19:42:27.192326Z"
    }
   },
   "outputs": [
    {
     "name": "stdout",
     "output_type": "stream",
     "text": [
      "A quantidade de casas com mais de dois andares é de 782\n"
     ]
    }
   ],
   "source": [
    "casas_mais_2_andares = len(data.loc[data['floors'] > 2, ['id']])\n",
    "print('A quantidade de casas com mais de dois andares é de {}'.format(casas_mais_2_andares))"
   ]
  },
  {
   "cell_type": "markdown",
   "id": "08233a92",
   "metadata": {},
   "source": [
    "### Quantas casas tem vista para o mar?"
   ]
  },
  {
   "cell_type": "code",
   "execution_count": 45,
   "id": "5c01ad71",
   "metadata": {
    "ExecuteTime": {
     "end_time": "2022-07-16T19:42:40.454486Z",
     "start_time": "2022-07-16T19:42:40.432695Z"
    }
   },
   "outputs": [
    {
     "name": "stdout",
     "output_type": "stream",
     "text": [
      "A quantidade de casas com vista para o mar é de 163\n"
     ]
    }
   ],
   "source": [
    "casas_vista_mar = len(data.loc[data['waterfront'] > 0, ['id']])\n",
    "print('A quantidade de casas com vista para o mar é de {}'.format(casas_vista_mar))"
   ]
  },
  {
   "cell_type": "markdown",
   "id": "0a8ef14c",
   "metadata": {},
   "source": [
    "### Das casas com vista para o mar, quantas tem 3 quartos?"
   ]
  },
  {
   "cell_type": "code",
   "execution_count": 46,
   "id": "06433533",
   "metadata": {
    "ExecuteTime": {
     "end_time": "2022-07-16T19:42:56.156140Z",
     "start_time": "2022-07-16T19:42:56.145226Z"
    }
   },
   "outputs": [
    {
     "name": "stdout",
     "output_type": "stream",
     "text": [
      "A quantidade de casas com vista para o mar e 3 banheiros é de 64\n"
     ]
    }
   ],
   "source": [
    "casa_mar_3_banheiros = len(data.loc[(data['waterfront'] == 1) & (data['bedrooms'] == 3),['id']])\n",
    "print('A quantidade de casas com vista para o mar e 3 banheiros é de {}'.format(casa_mar_3_banheiros))"
   ]
  },
  {
   "cell_type": "markdown",
   "id": "ccec5ea1",
   "metadata": {},
   "source": [
    "### Das casas com mais de 300 metros quadrados de sala de estar, quantas tem mais de 2 banheiros?"
   ]
  },
  {
   "cell_type": "code",
   "execution_count": 47,
   "id": "57aa6f07",
   "metadata": {
    "ExecuteTime": {
     "end_time": "2022-07-16T19:43:11.863223Z",
     "start_time": "2022-07-16T19:43:11.849226Z"
    }
   },
   "outputs": [
    {
     "name": "stdout",
     "output_type": "stream",
     "text": [
      "A quantidades de casa com sala de estar de mais de 300 metros quadrados e com mais de 2 banheiros é de 2201\n"
     ]
    }
   ],
   "source": [
    "data['m2'] = data['sqft_living'] * 0.093\n",
    "casa_sala300m_mais_2_banheiros = len(data.loc[(data['m2'] > 300) & (data['bathrooms'] > 2),['id']])\n",
    "print('A quantidades de casa com sala de estar de mais de 300 metros quadrados e com mais de 2 banheiros é de {}'.format(casa_sala300m_mais_2_banheiros))"
   ]
  }
 ],
 "metadata": {
  "kernelspec": {
   "display_name": "Python 3 (ipykernel)",
   "language": "python",
   "name": "python3"
  },
  "language_info": {
   "codemirror_mode": {
    "name": "ipython",
    "version": 3
   },
   "file_extension": ".py",
   "mimetype": "text/x-python",
   "name": "python",
   "nbconvert_exporter": "python",
   "pygments_lexer": "ipython3",
   "version": "3.9.12"
  }
 },
 "nbformat": 4,
 "nbformat_minor": 5
}
