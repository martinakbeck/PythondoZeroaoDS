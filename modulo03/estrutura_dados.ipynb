{
 "cells": [
  {
   "cell_type": "code",
   "execution_count": 20,
   "id": "bbcc7274",
   "metadata": {
    "ExecuteTime": {
     "end_time": "2022-07-16T21:08:53.633218Z",
     "start_time": "2022-07-16T21:08:52.931132Z"
    }
   },
   "outputs": [],
   "source": [
    "import datetime\n",
    "import pandas as pd"
   ]
  },
  {
   "cell_type": "markdown",
   "id": "96690bc6",
   "metadata": {},
   "source": [
    "### Dicionário\n",
    "- É uma estrutura de dados que armazena informações em um estrutura de chave-valor<br>\n",
    "- Todos os dados armazenados no dicionário precisam ter uma chave.<br>\n",
    "- Precisa de um nome.<br>\n",
    "- Não aceita valores duplicados, mesmo par (chave-valor)\n",
    "\n",
    "#### Estrutura do dicionário\n",
    "d = {'chave01' : valor01, 'chave02' : valor02, 'chave03' : valor03, 'chave04' : valor04}"
   ]
  },
  {
   "cell_type": "code",
   "execution_count": 7,
   "id": "72f8a963",
   "metadata": {
    "ExecuteTime": {
     "end_time": "2022-07-16T21:06:08.351746Z",
     "start_time": "2022-07-16T21:06:08.324805Z"
    }
   },
   "outputs": [
    {
     "data": {
      "text/plain": [
       "{'size': 'M', 'price': 190.9, 'color': 'black'}"
      ]
     },
     "execution_count": 7,
     "metadata": {},
     "output_type": "execute_result"
    }
   ],
   "source": [
    "skirt = {'size' : 'M', 'price' : 190.90, 'color' : 'black'}\n",
    "skirt"
   ]
  },
  {
   "cell_type": "code",
   "execution_count": 8,
   "id": "043790ae",
   "metadata": {
    "ExecuteTime": {
     "end_time": "2022-07-16T21:06:13.023349Z",
     "start_time": "2022-07-16T21:06:13.003600Z"
    }
   },
   "outputs": [
    {
     "data": {
      "text/plain": [
       "{'size': 'M', 'price': 190.9, 'color': 'black', 'date': '2020-01-01'}"
      ]
     },
     "execution_count": 8,
     "metadata": {},
     "output_type": "execute_result"
    }
   ],
   "source": [
    "skirt = {'size' : 'M', 'price' : 190.90, 'color' : 'black', 'date' : '2020-01-01'}\n",
    "skirt"
   ]
  },
  {
   "cell_type": "code",
   "execution_count": 10,
   "id": "b6a21592",
   "metadata": {
    "ExecuteTime": {
     "end_time": "2022-07-16T21:06:18.647489Z",
     "start_time": "2022-07-16T21:06:18.627734Z"
    }
   },
   "outputs": [
    {
     "data": {
      "text/plain": [
       "{'size': 'M', 'price': 190.9, 'color': ['black', 'red', 'blue']}"
      ]
     },
     "execution_count": 10,
     "metadata": {},
     "output_type": "execute_result"
    }
   ],
   "source": [
    "skirt = {'size' : 'M', 'price' : 190.90, 'color' : ['black', 'red', 'blue']}\n",
    "skirt"
   ]
  },
  {
   "cell_type": "code",
   "execution_count": 12,
   "id": "7e7eda35",
   "metadata": {
    "ExecuteTime": {
     "end_time": "2022-07-16T21:07:22.157676Z",
     "start_time": "2022-07-16T21:07:22.140602Z"
    }
   },
   "outputs": [
    {
     "data": {
      "text/plain": [
       "'M'"
      ]
     },
     "execution_count": 12,
     "metadata": {},
     "output_type": "execute_result"
    }
   ],
   "source": [
    "#Acessar os valores do dicionário\n",
    "skirt['size']"
   ]
  },
  {
   "cell_type": "code",
   "execution_count": 16,
   "id": "4213d274",
   "metadata": {
    "ExecuteTime": {
     "end_time": "2022-07-16T21:07:42.399146Z",
     "start_time": "2022-07-16T21:07:42.388385Z"
    }
   },
   "outputs": [
    {
     "data": {
      "text/plain": [
       "'black'"
      ]
     },
     "execution_count": 16,
     "metadata": {},
     "output_type": "execute_result"
    }
   ],
   "source": [
    "skirt['color'] = ['black', 'red', 'blue']\n",
    "skirt['color'][0]"
   ]
  },
  {
   "cell_type": "code",
   "execution_count": 17,
   "id": "7cc32111",
   "metadata": {
    "ExecuteTime": {
     "end_time": "2022-07-16T21:08:00.484258Z",
     "start_time": "2022-07-16T21:08:00.466434Z"
    }
   },
   "outputs": [],
   "source": [
    "#Como criar um dicionário vazio\n",
    "skirt = {}"
   ]
  },
  {
   "cell_type": "code",
   "execution_count": 18,
   "id": "6c20b1a7",
   "metadata": {
    "ExecuteTime": {
     "end_time": "2022-07-16T21:08:09.607883Z",
     "start_time": "2022-07-16T21:08:09.595893Z"
    }
   },
   "outputs": [],
   "source": [
    "#Adicionar novos dados dentro de um dicionário\n",
    "skirt['category'] = 'bottom'"
   ]
  },
  {
   "cell_type": "markdown",
   "id": "f644d870",
   "metadata": {},
   "source": [
    "### Dataframe\n",
    "Armazena dados na forma tabular com nomes nas linhas e colunas<br>\n",
    "Precisam de um nome"
   ]
  },
  {
   "cell_type": "code",
   "execution_count": 21,
   "id": "814edb7b",
   "metadata": {
    "ExecuteTime": {
     "end_time": "2022-07-16T21:08:55.420135Z",
     "start_time": "2022-07-16T21:08:55.403461Z"
    }
   },
   "outputs": [],
   "source": [
    "#Como criar um dataframe vazio\n",
    "data = pd.DataFrame()"
   ]
  },
  {
   "cell_type": "code",
   "execution_count": 24,
   "id": "0e606c83",
   "metadata": {
    "ExecuteTime": {
     "end_time": "2022-07-16T21:09:20.720553Z",
     "start_time": "2022-07-16T21:09:20.700162Z"
    }
   },
   "outputs": [],
   "source": [
    "#Como popular um dataframe vazio\n",
    "#1° Atráves de um dicionário\n",
    "data = {'size': ['P', 'M', 'G'], 'price':[190.90, 59.90, 29.90], 'color':['black', 'red', 'blue']}\n",
    "data = pd.DataFrame(data)"
   ]
  }
 ],
 "metadata": {
  "kernelspec": {
   "display_name": "Python 3 (ipykernel)",
   "language": "python",
   "name": "python3"
  },
  "language_info": {
   "codemirror_mode": {
    "name": "ipython",
    "version": 3
   },
   "file_extension": ".py",
   "mimetype": "text/x-python",
   "name": "python",
   "nbconvert_exporter": "python",
   "pygments_lexer": "ipython3",
   "version": "3.9.12"
  }
 },
 "nbformat": 4,
 "nbformat_minor": 5
}
