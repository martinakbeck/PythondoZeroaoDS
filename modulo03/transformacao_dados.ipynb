{
 "cells": [
  {
   "cell_type": "code",
   "execution_count": 1,
   "id": "c1ac3b1c",
   "metadata": {
    "ExecuteTime": {
     "end_time": "2022-07-16T21:11:53.718422Z",
     "start_time": "2022-07-16T21:11:53.273139Z"
    }
   },
   "outputs": [],
   "source": [
    "import pandas as pd"
   ]
  },
  {
   "cell_type": "code",
   "execution_count": 3,
   "id": "830d7351",
   "metadata": {
    "ExecuteTime": {
     "end_time": "2022-07-16T21:12:09.565575Z",
     "start_time": "2022-07-16T21:12:09.486606Z"
    }
   },
   "outputs": [],
   "source": [
    "data = pd.read_csv('../datasets/kc_house_data.csv')"
   ]
  },
  {
   "cell_type": "markdown",
   "id": "ec27f392",
   "metadata": {
    "ExecuteTime": {
     "end_time": "2022-07-16T21:12:19.601812Z",
     "start_time": "2022-07-16T21:12:19.594655Z"
    }
   },
   "source": [
    "#### Agrupamento\n",
    "Sequência de 3 tarefas: Split, Apply, Combine(Separa, Aplica e Combina)"
   ]
  },
  {
   "cell_type": "code",
   "execution_count": 5,
   "id": "2168e4dd",
   "metadata": {
    "ExecuteTime": {
     "end_time": "2022-07-16T21:12:23.165119Z",
     "start_time": "2022-07-16T21:12:23.131024Z"
    }
   },
   "outputs": [
    {
     "name": "stdout",
     "output_type": "stream",
     "text": [
      "(13, 21)\n",
      "(199, 21)\n",
      "(2760, 21)\n",
      "(9824, 21)\n",
      "(6882, 21)\n",
      "Número de quartos: 0\n",
      "(13, 2)\n",
      "\n",
      "Número de quartos: 1\n",
      "(199, 2)\n",
      "\n",
      "Número de quartos: 2\n",
      "(2760, 2)\n",
      "\n",
      "Número de quartos: 3\n",
      "(9824, 2)\n",
      "\n",
      "Número de quartos: 4\n",
      "(6882, 2)\n",
      "\n",
      "Número de quartos: 5\n",
      "(1601, 2)\n",
      "\n",
      "Número de quartos: 6\n",
      "(272, 2)\n",
      "\n",
      "Número de quartos: 7\n",
      "(38, 2)\n",
      "\n",
      "Número de quartos: 8\n",
      "(13, 2)\n",
      "\n",
      "Número de quartos: 9\n",
      "(6, 2)\n",
      "\n",
      "Número de quartos: 10\n",
      "(3, 2)\n",
      "\n",
      "Número de quartos: 11\n",
      "(1, 2)\n",
      "\n",
      "Número de quartos: 33\n",
      "(1, 2)\n",
      "\n"
     ]
    }
   ],
   "source": [
    "#Quantos imóveis existem por números de quartos\n",
    "print(data[data['bedrooms'] == 0].shape)\n",
    "print(data[data['bedrooms'] == 1].shape)\n",
    "print(data[data['bedrooms'] == 2].shape)\n",
    "print(data[data['bedrooms'] == 3].shape)\n",
    "print(data[data['bedrooms'] == 4].shape)\n",
    "\n",
    "df_gruoped = data[['id', 'bedrooms']].groupby('bedrooms')\n",
    "\n",
    "for bedrooms, frame in df_gruoped:\n",
    "    print ('Número de quartos: {}'.format(bedrooms))\n",
    "    print(frame.shape, end='\\n\\n')"
   ]
  },
  {
   "cell_type": "markdown",
   "id": "529b1234",
   "metadata": {},
   "source": [
    "### Operações Matemáticas\n",
    "Com os dados agrupados, podemos realizar operações matemáticas <br>\n",
    "Contagem, mínimos, máximos, somar, média, mediana, desvio-padrão <br>"
   ]
  },
  {
   "cell_type": "code",
   "execution_count": null,
   "id": "36148acf",
   "metadata": {},
   "outputs": [],
   "source": []
  }
 ],
 "metadata": {
  "kernelspec": {
   "display_name": "Python 3 (ipykernel)",
   "language": "python",
   "name": "python3"
  },
  "language_info": {
   "codemirror_mode": {
    "name": "ipython",
    "version": 3
   },
   "file_extension": ".py",
   "mimetype": "text/x-python",
   "name": "python",
   "nbconvert_exporter": "python",
   "pygments_lexer": "ipython3",
   "version": "3.9.12"
  }
 },
 "nbformat": 4,
 "nbformat_minor": 5
}
