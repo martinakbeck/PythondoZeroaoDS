{
 "cells": [
  {
   "cell_type": "markdown",
   "id": "5a41a3aa",
   "metadata": {},
   "source": [
    "## Produto Final (O que vou entregar? Planilha, gráfico, modelo de ML,...)\n",
    "Email + 2 anexos: <br>\n",
    "Email: as respostas das perguntas<br>\n",
    "    - Anexo 1: Um dashboard com 3 gráficos\n",
    "    - Anexo 2: Um mapa no formato HTML\n",
    "\n",
    "## Ferramenta (Qual ferramenta usar?)\n",
    "Python 3.9.9<br>\n",
    "Jupyter Notebook<br>\n",
    "VSCode<br>\n"
   ]
  },
  {
   "cell_type": "markdown",
   "id": "3e8377b5",
   "metadata": {},
   "source": [
    "## Processo (Como fazer?)"
   ]
  },
  {
   "cell_type": "markdown",
   "id": "460c331c",
   "metadata": {},
   "source": [
    "### Qual o número de imóveis por ano de construção?\n",
    "    - Contar o número de ids por ano de construção"
   ]
  },
  {
   "cell_type": "markdown",
   "id": "cc08ec80",
   "metadata": {},
   "source": [
    "### Qual o menor número de quartos por ano de contrução de imóveis?\n",
    "Filtrar todos os imóveis por ano de construção e selecionar o menor número e quartos"
   ]
  },
  {
   "cell_type": "markdown",
   "id": "1531d2c1",
   "metadata": {},
   "source": [
    "### Qual o preço de compra mais alto por cada número de quarto?\n",
    "Filtar todos os imóveis por número de quartos e selecionar o de maior preço"
   ]
  },
  {
   "cell_type": "markdown",
   "id": "cc8fe8a0",
   "metadata": {},
   "source": [
    "### Qual a soma de todos os preços de compra por número de quartos?\n",
    "Filtrar todos os imóveis por número de quartos e fazer a soma todos os preço por número de quartos"
   ]
  },
  {
   "cell_type": "markdown",
   "id": "cd343a62",
   "metadata": {},
   "source": [
    "### Qual a soma de todos os preços de compra por número de quartos e banheiros?\n",
    "Filtrar todos os imóveis por número de quartos, filtrar por quantidade de banheiros e fazer a soma do preço pela quantidade de quartos e banheiros"
   ]
  },
  {
   "cell_type": "markdown",
   "id": "860505fd",
   "metadata": {},
   "source": [
    "### Qual o tamanho médio das salas dos imóveis por ano de construção?\n",
    "Filtrar todos os imóveis por ano de construção e fazer a média do tamanho das salas "
   ]
  },
  {
   "cell_type": "markdown",
   "id": "b319b6bf",
   "metadata": {
    "ExecuteTime": {
     "end_time": "2022-07-16T21:17:51.662956Z",
     "start_time": "2022-07-16T21:17:51.655974Z"
    }
   },
   "source": [
    "### Qual o tamanho mediano das salas dos imóveis por ano de construção?\n",
    "Filtrar todos os imóveis por ano de construção e achar o tamanho mediano das salas"
   ]
  },
  {
   "cell_type": "markdown",
   "id": "61681318",
   "metadata": {},
   "source": [
    "### Qual o desvio-padrão do tamanho das salas dos imóveis por ano de construção?\n",
    "Filtrar todos os imóveis por ano de construção e descobri qual o desvio-padrão do tamanho das salas"
   ]
  },
  {
   "cell_type": "markdown",
   "id": "f24f9b5e",
   "metadata": {},
   "source": [
    "### Como é o crescimento médio de preços de compras dos imóveis por ano, por dia, pela semana do ano?\n",
    "Filtrar todos os imóveis por ano e fazer um gráfico onde o eixo x eu tenha o eixo y, assim tenha a média do preço ano <br>\n",
    "Estudar uma biblioteca que tenha alguma função que desenhe um gráfico de linhas."
   ]
  },
  {
   "cell_type": "markdown",
   "id": "91772057",
   "metadata": {},
   "source": [
    "### Olhar um mapa e conseguir identificar as casas com o maior preço\n",
    "Modificar o mapa da entrega anterior, e fazer com que os tamanhos tenham tamanho diferentes conforme preço."
   ]
  },
  {
   "cell_type": "code",
   "execution_count": null,
   "id": "498ac9e3",
   "metadata": {},
   "outputs": [],
   "source": []
  }
 ],
 "metadata": {
  "kernelspec": {
   "display_name": "Python 3 (ipykernel)",
   "language": "python",
   "name": "python3"
  },
  "language_info": {
   "codemirror_mode": {
    "name": "ipython",
    "version": 3
   },
   "file_extension": ".py",
   "mimetype": "text/x-python",
   "name": "python",
   "nbconvert_exporter": "python",
   "pygments_lexer": "ipython3",
   "version": "3.9.12"
  }
 },
 "nbformat": 4,
 "nbformat_minor": 5
}
